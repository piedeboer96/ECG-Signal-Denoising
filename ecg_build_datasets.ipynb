{
 "cells": [
  {
   "cell_type": "markdown",
   "metadata": {},
   "source": [
    "### ECG - Synthetic Datasets and Encodings for Diffusion Models\n",
    "\n",
    "In this notebook we will build and demonstrate the methods that help use with creating a synthetic dataset.\n",
    "\n",
    "- Timeseries encoding\n",
    "- Spectrograms\n",
    "- Generate noisy samples\n",
    "- Generate embedded data\n",
    "- Additional datasets"
   ]
  },
  {
   "cell_type": "code",
   "execution_count": 1,
   "metadata": {},
   "outputs": [
    {
     "name": "stdout",
     "output_type": "stream",
     "text": [
      "Virtual Environment:\n",
      "c:\\Users\\Pie\\Desktop\\Thesis\\code\\signal-denoising\\.venv\n"
     ]
    }
   ],
   "source": [
    "import torch\n",
    "import torchaudio \n",
    "import wfdb\n",
    "import os\n",
    "import sys\n",
    "import wfdb\n",
    "import pickle\n",
    "import numpy as np\n",
    "from tqdm import tqdm\n",
    "import matplotlib.pyplot as plt\n",
    "from scipy.signal import stft\n",
    "from scipy.signal import resample\n",
    "from wfdb import processing\n",
    "from pyts.image import MarkovTransitionField\n",
    "\n",
    "print('Virtual Environment:')\n",
    "print(sys.prefix)\n"
   ]
  },
  {
   "cell_type": "markdown",
   "metadata": {},
   "source": [
    "Auxiliary methods for visualization."
   ]
  },
  {
   "cell_type": "code",
   "execution_count": 2,
   "metadata": {},
   "outputs": [],
   "source": [
    "def plot_multiple_timeseries(signals, names):\n",
    "    num_signals = len(signals)\n",
    "    \n",
    "    plt.figure(figsize=(5 * num_signals, 4))\n",
    "\n",
    "    for i, (signal, name) in enumerate(zip(signals, names), 1):\n",
    "        plt.subplot(1, num_signals, i)\n",
    "        plt.plot(signal)\n",
    "        plt.title(name)\n",
    "        plt.xlabel('Sample')\n",
    "        plt.ylabel('Amplitude')\n",
    "\n",
    "    plt.tight_layout()\n",
    "    plt.show()\n",
    "\n",
    "def visualize_tensor(tensor):\n",
    "    print('Shape', tensor.shape)\n",
    "\n",
    "    # Convert the tensor to a NumPy array\n",
    "    image_array = tensor.numpy()\n",
    "\n",
    "    # Transpose the array to (H, W, C) format\n",
    "    image_array = image_array.transpose(1, 2, 0)\n",
    "\n",
    "    # Display the image using Matplotlib\n",
    "    plt.imshow(image_array)\n",
    "    plt.axis('off')  # Turn off axis\n",
    "    plt.show()"
   ]
  },
  {
   "cell_type": "markdown",
   "metadata": {},
   "source": [
    "#### Encoding Timeseries for Deep Learning\n",
    "We can use an alternative approach from this paper (https://arxiv.org/pdf/1506.00327.pdf) also used in a paper that used diffusion models to generate ECG signals (https://arxiv.org/pdf/2303.02475.pdf).\n",
    "\n",
    "Further researched in this paper (https://www.researchgate.net/figure/Conceptual-block-diagram-of-the-proposed-structure-for-individual-household-power_fig4_338359485)\n",
    "\n",
    "Not Investigated:\n",
    "- recurrence plots\n",
    "\n",
    "-------- \n",
    "TLDR: \\\n",
    "<font color='orange'>- Slow, images are large</font> \\\n",
    "<font color='lime'>- Normalized, (almost) loseless</font> "
   ]
  },
  {
   "cell_type": "code",
   "execution_count": 4,
   "metadata": {},
   "outputs": [],
   "source": [
    "# From paper 'Generating ECG using Diffusion Models' (2023)\n",
    "def rescale_time_series(X):     \n",
    "    \"\"\"\n",
    "    Rescale the time series X to fall within the interval [-1, 1].\n",
    "    \n",
    "    Parameters:\n",
    "    X (array-like): The input time series.\n",
    "    \n",
    "    Returns:\n",
    "    X_rescaled (array-like): The rescaled time series.\n",
    "    \"\"\"\n",
    "    # Min-Max scaling: \n",
    "    # https://github.com/devitrylouis/imaging_time_series/blob/master/gramian_angular_field.py\n",
    "    min_ = np.amin(X)\n",
    "    max_ = np.amax(X)\n",
    "    scaled_serie = (2*X - max_ - min_)/(max_ - min_)\n",
    "    # Floating point inaccuracy!\n",
    "    scaled_serie = np.where(scaled_serie >= 1., 1., scaled_serie)\n",
    "    scaled_serie = np.where(scaled_serie <= -1., -1., scaled_serie)\n",
    "\n",
    "    return scaled_serie\n",
    "\n",
    "# Load the MTF once\n",
    "mtf = MarkovTransitionField()\n",
    "\n",
    "# Embedd \n",
    "def ecg_to_ggm(X):\n",
    "    # Rescale\n",
    "    X = rescale_time_series(X)\n",
    "\n",
    "    # Calculate the radius values 'r' using the time stamps\n",
    "    # r = np.arange(1, len(X) + 1) / len(X)\n",
    "\n",
    "    # Calculate the angular values 'phi' using the rescaled time series\n",
    "    phi = np.arccos(X)\n",
    "\n",
    "    # Compute GASF matrix\n",
    "    N = len(X)\n",
    "    GASF = np.zeros((N, N))\n",
    "    N = len(X)\n",
    "    GADF = np.zeros((N, N))\n",
    "\n",
    "    for i in range(N):\n",
    "        for j in range(N):\n",
    "            GASF[i, j] = np.cos((phi[i] + phi[j]) / 2)\n",
    "            GADF[i, j] = np.cos((phi[i] - phi[j]) / 2)\n",
    "    \n",
    "    # Compute MTF matrix\n",
    "    MTF = mtf.transform(X.reshape(1,-1))\n",
    "    MTF = MTF[0]\n",
    "\n",
    "    # Return Tensor (3,x,x) 'RGB'\n",
    "    ggm = np.stack((GASF, GADF, MTF),axis=-1)\n",
    "    x = torch.tensor(ggm)\n",
    "    x = torch.permute(x, (2, 0, 1))\n",
    "\n",
    "    return x  \n",
    "\n",
    "# Reconstruct\n",
    "def ggm_to_ecg(ggm):\n",
    "\n",
    "    # Undo the permuation\n",
    "    ggm_restored = torch.permute(ggm, (1, 2, 0))\n",
    "\n",
    "    # Convetr to numpy\n",
    "    ggm = ggm_restored.detach().cpu().numpy()\n",
    "\n",
    "    # Debugging\n",
    "    # print('Type of GGM', type(ggm))\n",
    "    # print('Shape of GGM', ggm.shape)\n",
    "\n",
    "    # Extract GASF channel\n",
    "    gasf_channel = ggm[:, :, 0]\n",
    "    \n",
    "    # Extract diagonal elements\n",
    "    diagonals = np.diagonal(gasf_channel)\n",
    "\n",
    "    return diagonals"
   ]
  },
  {
   "cell_type": "code",
   "execution_count": null,
   "metadata": {},
   "outputs": [],
   "source": [
    "###### Example ######\n",
    "record_102 = wfdb.rdsamp(\"data/ardb/102\", sampto=512)\n",
    "x = record_102[0][:, 0]\n",
    "\n",
    "# Convert to GGM and visualize\n",
    "ggm_clean = ecg_to_ggm(x)\n",
    "visualize_tensor(ggm_clean)\n",
    "\n",
    "# Reconstruct from GGM\n",
    "rec_sig  = ggm_to_ecg(ggm_clean)\n",
    "\n",
    "# Visualize original and reconstructed signal\n",
    "plot_multiple_timeseries([x,  rec_sig],['Original Signal', 'Recovered Signal'])"
   ]
  },
  {
   "cell_type": "markdown",
   "metadata": {},
   "source": [
    "#### Spectrograms"
   ]
  },
  {
   "cell_type": "markdown",
   "metadata": {},
   "source": [
    "Square tensors (spectrograms) are obtained by taking the right values for samples_to, n_fft and hop_length.\n",
    "\n",
    "A bigger problem is the reconstruction part. We lose phase information, which means we will have to work with a lossy reconstruction. PytorchAudio has a Griffin Lim implementation we use for now. The probably best approach would be to use gradient ascent. Additional recources.\n",
    "\n",
    "- https://pytorch.org/audio/stable/transforms.html\n",
    "- https://reference.wolfram.com/language/ref/InverseSpectrogram.html\n",
    "- https://de.mathworks.com/help/signal/ug/signal-recovery-with-differentiable-scalograms-and-spectrograms.html#SignalRecoveryWithDifferentiableSPExample-1 "
   ]
  },
  {
   "cell_type": "markdown",
   "metadata": {},
   "source": [
    "Approach 1:\n",
    "\n",
    "- Using lossy conversion with Griffin [PytorchAudio]"
   ]
  },
  {
   "cell_type": "code",
   "execution_count": null,
   "metadata": {},
   "outputs": [],
   "source": [
    "def ecg_to_spectrogram_log(ecg_signal, n_fft=32, hop_length=4):\n",
    "    \"\"\"\n",
    "    Convert ECG signal to spectrogram using torchaudio library.\n",
    "\n",
    "    Args:\n",
    "    - ecg_signal (torch.Tensor): 1D tensor representing the ECG signal.\n",
    "    - n_fft (int): Size of FFT window. Default is 400.\n",
    "    - hop_length (int or None): Number of samples between successive frames.\n",
    "      If None, defaults to n_fft / 4. Default is None.\n",
    "\n",
    "    Returns:\n",
    "    - torch.Tensor: Spectrogram of the ECG signal.\n",
    "    \"\"\"\n",
    "    # Reshape ECG signal to (batch_size, num_channels, signal_length)\n",
    "    ecg_signal = ecg_signal.unsqueeze(0).unsqueeze(0)\n",
    "\n",
    "    # Compute spectrogram\n",
    "    spectrogram = torchaudio.transforms.Spectrogram(n_fft=n_fft, hop_length=hop_length)(ecg_signal)\n",
    "\n",
    "    # Take the log\n",
    "    spec = spectrogram[0]\n",
    "    spec_log = torch.log10(spec)\n",
    "\n",
    "    return spec_log\n",
    "\n",
    "def spectrogram_log_to_ecg(spec_log, n_fft=32, hop_length=None,n_iter=400):\n",
    "    \"\"\"\n",
    "    Convert spectrogram back to ECG signal using torchaudio library.\n",
    "\n",
    "    Args:\n",
    "    - spectrogram (torch.Tensor): Spectrogram of the ECG signal.\n",
    "    - n_fft (int): Size of FFT window. Default is 400.\n",
    "    - hop_length (int or None): Number of samples between successive frames.\n",
    "      If None, defaults to n_fft / 4. Default is None.\n",
    "\n",
    "    Returns:\n",
    "    - torch.Tensor: Reconstructed ECG signal.\n",
    "    \"\"\"\n",
    "    # Undo log operation\n",
    "    spec = torch.pow(10, spec_log)\n",
    "\n",
    "    # Compute inverse spectrogram\n",
    "    ecg_signal = torchaudio.transforms.GriffinLim(n_fft=n_fft,  n_iter=400, hop_length=hop_length)(spec)\n",
    "\n",
    "    # Squeeze the batch and channel dimensions\n",
    "    ecg_signal = ecg_signal.squeeze(0).squeeze(0)\n",
    "\n",
    "    return ecg_signal\n",
    "\n",
    "######### Parameters ##########\n",
    "samples_to = (62*16) + 16\n",
    "n_fft = 126\n",
    "hop_length = 16\n",
    "\n",
    "# Load Data\n",
    "path_102 = \"data/ardb/104\"\n",
    "record_102 = wfdb.rdsamp(path_102, sampto=samples_to)\n",
    "signal_102 = record_102[0][:, 0]\n",
    "signal_102 = signal_102\n",
    "\n",
    "# Build and Visualize Spectrogram\n",
    "sig = torch.tensor(signal_102)\n",
    "spek_log = ecg_to_spectrogram_log(sig,n_fft=n_fft, hop_length=hop_length)\n",
    "visualize_tensor(spek_log)\n",
    "\n",
    "# Visualize reoncstruction using Griffin...\n",
    "reconstructed_sig = spectrogram_log_to_ecg(spek_log,n_fft,hop_length)\n",
    "reconstructed_sig = -reconstructed_sig                                        # flip phase for whatever reason...\n",
    "plot_multiple_timeseries([sig, reconstructed_sig], ['Original', 'Griffin Reconstruction', 'Griffin New'])\n",
    "\n",
    "# Info\n",
    "print('Number of samples:', samples_to)\n",
    "print('Duration in seconds:', samples_to/360)\n",
    "print('Shape of spectrogram:',spek_log.shape)\n"
   ]
  },
  {
   "cell_type": "markdown",
   "metadata": {},
   "source": [
    "#### Generate Noisy Samples\n",
    "\n",
    "Since our goal is to use a supervised learning (e.g. diffusion image restauration models). We need to build a training/test set."
   ]
  },
  {
   "cell_type": "code",
   "execution_count": 6,
   "metadata": {},
   "outputs": [],
   "source": [
    "# Extract record\n",
    "# sampto=128*2*2            ## old settings\n",
    "sampto=1008\n",
    "record_bw = wfdb.rdsamp(\"data/nstdb/bw\", sampto=sampto); signal_bw = record_bw[0][:, 0] \n",
    "record_em = wfdb.rdsamp(\"data/nstdb/em\", sampto=sampto); signal_em = record_em[0][:, 0]\n",
    "record_ma = wfdb.rdsamp(\"data/nstdb/ma\", sampto=sampto); signal_ma = record_ma[0][:, 0]\n",
    "\n",
    "signals = [signal_bw,signal_em,signal_ma]\n",
    "names = ['Basline Wander', 'Electrode Motion', 'Muscle Artifact']\n",
    "\n",
    "# Plot multiple time series\n",
    "# plot_multiple_timeseries(signals,names)\n",
    "\n",
    "# Plot multiple 2D Embeddings\n",
    "# visualize_tensor(ecg_to_ggm(signal_bw)); visualize_tensor(ecg_to_ggm(signal_em)); visualize_tensor( ecg_to_ggm(signal_ma))"
   ]
  },
  {
   "cell_type": "markdown",
   "metadata": {},
   "source": [
    "We can linearly add noise to the samples and control the $SNR$. We use the strategy used in this paper: https://ieeexplore.ieee.org/stamp/stamp.jsp?arnumber=9779754. We do not investigate gaussian noise at this this point."
   ]
  },
  {
   "cell_type": "code",
   "execution_count": 7,
   "metadata": {},
   "outputs": [],
   "source": [
    "def add_noise(ecg_signal, noise_signal, snr_dB):\n",
    "    \"\"\"\n",
    "    Add noise to the clean ECG signal.\n",
    "\n",
    "    Parameters:\n",
    "    - ecg_signal (ndarray): The clean ECG signal.\n",
    "    - noise_signal (ndarray): The noise signal to be added.\n",
    "    - snr_dB (float): The desired signal-to-noise ratio in decibels.\n",
    "\n",
    "    Returns:\n",
    "    - noisy_signal (ndarray): The noisy ECG signal.\n",
    "    \"\"\"\n",
    "    # Calculate lambda (λ) based on the desired SNR\n",
    "    lambda_value = np.sqrt(np.mean(ecg_signal**2)) / (np.sqrt(np.mean(noise_signal**2)) * 10**(0.1 * snr_dB / 2))\n",
    "\n",
    "    # Generate noisy signal\n",
    "    noisy_signal = ecg_signal + (noise_signal * lambda_value)\n",
    "\n",
    "    return noisy_signal"
   ]
  },
  {
   "cell_type": "markdown",
   "metadata": {},
   "source": [
    "Time for an example and some visualizations!"
   ]
  },
  {
   "cell_type": "code",
   "execution_count": null,
   "metadata": {},
   "outputs": [],
   "source": [
    "# Define clean ECG signal\n",
    "# sampto=128*2*4\n",
    "record = wfdb.rdsamp(\"data/ardb/102\", sampto=sampto)\n",
    "ecg_signal = record[0][:, 0] \n",
    "\n",
    "# Define noise signal\n",
    "path_to_noise = \"data/nstdb/bw\"\n",
    "record_noise = wfdb.rdsamp(path_to_noise, sampto=sampto)\n",
    "noise_signal = record_noise[0][:, 0] \n",
    "noise_type = path_to_noise[-2:]\n",
    "\n",
    "# Desired signal-to-noise ratio (SNR) in decibels\n",
    "snr_dB = 5  # Example SNR       \n",
    "\n",
    "# Add noise to the clean ECG signal\n",
    "noisy_signal = add_noise(ecg_signal, noise_signal, snr_dB)\n",
    "\n",
    "# Different Visualizations...\n",
    "signals=[ecg_signal, noise_signal,  noisy_signal] \n",
    "names=[\"Original Signal\", \"Noise \"+str(noise_type), \"Noisy Signal SNR \"+str(snr_dB)]\n",
    "\n",
    "# Time Series\n",
    "plot_multiple_timeseries(signals,names)"
   ]
  },
  {
   "cell_type": "markdown",
   "metadata": {},
   "source": [
    "#### Generate Embedded Data\n",
    "One paper that works with 1D CCNs uses a 3.0 sec sliding window : https://ieeexplore.ieee.org/stamp/stamp.jsp?arnumber=9779754. I do assume however, if we want to work with 2D CNNs, we will loose too much detail (does not have to be I guess...).\n",
    "\n",
    "An altenative approach of researchers that used diffusion models to generate synthetic hearbeats, was to 'split up' the signal into segmeents with just individual heartbeats (https://arxiv.org/pdf/2306.01875.pdf). They did this based on 270 samples, which corresponds to 0.75 seconds, given a sampling rate of 360. However, since certain noise types can clearly affect multiple heartbeats so we might have to find a middle ground. \n",
    "\n",
    "One approach using samples of 540 samples and keeps the  'hearbeats' intact/ important characteristics. We then crop 512 samples, because this allows us to work with U-Net without need for further modificaiton (trade-off). We uses 512 samples when working with GGM embedding. For now, trial-and-error showed us that 1008 samples is handy when working with spectrograms, if we want to obtain tensors with size (1,64,64).\n",
    "\n",
    "-----\n",
    "TLDR: \n",
    "- <font color='orange'>GGM Encoding, Length 512 samples, AM and EM noise, SNR=5</font>  (too slow on local CPU)\n",
    "- <font color='cyan'>Spectrogram, Length 504 samples, AM and EM noise, SNR=5</font>  (might not work with Matlab...)"
   ]
  },
  {
   "cell_type": "code",
   "execution_count": null,
   "metadata": {},
   "outputs": [],
   "source": [
    "#### original length signal ####\n",
    "record = wfdb.rdsamp(\"data/ardb/104\")\n",
    "x = record[0][:, 0]\n",
    "\n",
    "print('Total length of sample',len(x))\n",
    "print('Total duration of sample',len(x)/360)\n",
    "\n",
    "# Define the length of a cardiac cycle (taken from paper)\n",
    "cycle_length = 270\n",
    "\n",
    "# Split the ECG signal into cardiac cycles\n",
    "cardiac_cycles = []\n",
    "for i in range(0, len(ecg_signal), cycle_length):\n",
    "    cycle = ecg_signal[i:i+cycle_length]\n",
    "    cardiac_cycles.append(cycle)"
   ]
  },
  {
   "cell_type": "markdown",
   "metadata": {},
   "source": [
    "Our sample length is $650000$ and based on paper we took $270$ as an 'average' duration for an individual heartbeat."
   ]
  },
  {
   "cell_type": "code",
   "execution_count": 9,
   "metadata": {},
   "outputs": [],
   "source": [
    "# Read the ECG signal from the record\n",
    "record = wfdb.rdsamp(\"data/ardb/104\")\n",
    "ecg_signal = record[0][:, 0]\n",
    "\n",
    "def slice_ecg_signal(ecg_signal, signal_length, heartbeat_duration, k):\n",
    "    k_heartbeats = heartbeat_duration * k\n",
    "    parts_of_interest = signal_length // k_heartbeats\n",
    "    return [ecg_signal[i * k_heartbeats : (i + 1) * k_heartbeats] for i in range(parts_of_interest)]"
   ]
  },
  {
   "cell_type": "markdown",
   "metadata": {},
   "source": [
    "If we define our length/ number of heartbeats, we can slice the indivual records to obtain many smaller signals/slices. "
   ]
  },
  {
   "cell_type": "code",
   "execution_count": 10,
   "metadata": {},
   "outputs": [
    {
     "name": "stdout",
     "output_type": "stream",
     "text": [
      "Record Number: 100, Number of Slices: 1203\n",
      "Record Number: 101, Number of Slices: 1203\n",
      "Record Number: 102, Number of Slices: 1203\n",
      "Record Number: 103, Number of Slices: 1203\n",
      "Record Number: 104, Number of Slices: 1203\n",
      "Record Number: 105, Number of Slices: 1203\n",
      "Record Number: 106, Number of Slices: 1203\n",
      "Record Number: 107, Number of Slices: 1203\n",
      "Record Number: 108, Number of Slices: 1203\n",
      "Record Number: 109, Number of Slices: 1203\n",
      "Record Number: 111, Number of Slices: 1203\n",
      "Record Number: 112, Number of Slices: 1203\n",
      "Record Number: 113, Number of Slices: 1203\n",
      "Record Number: 114, Number of Slices: 1203\n",
      "Record Number: 115, Number of Slices: 1203\n",
      "Record Number: 116, Number of Slices: 1203\n",
      "Record Number: 117, Number of Slices: 1203\n",
      "Record Number: 118, Number of Slices: 1203\n",
      "Record Number: 119, Number of Slices: 1203\n",
      "Record Number: 121, Number of Slices: 1203\n",
      "Record Number: 122, Number of Slices: 1203\n",
      "Record Number: 123, Number of Slices: 1203\n",
      "Record Number: 124, Number of Slices: 1203\n",
      "Record Number: 200, Number of Slices: 1203\n",
      "Record Number: 201, Number of Slices: 1203\n",
      "Record Number: 202, Number of Slices: 1203\n",
      "Record Number: 203, Number of Slices: 1203\n",
      "Record Number: 205, Number of Slices: 1203\n",
      "Record Number: 207, Number of Slices: 1203\n",
      "Record Number: 208, Number of Slices: 1203\n",
      "Record Number: 209, Number of Slices: 1203\n",
      "Record Number: 210, Number of Slices: 1203\n",
      "Record Number: 212, Number of Slices: 1203\n",
      "Record Number: 213, Number of Slices: 1203\n",
      "Record Number: 214, Number of Slices: 1203\n",
      "Record Number: 215, Number of Slices: 1203\n",
      "Record Number: 217, Number of Slices: 1203\n",
      "Record Number: 219, Number of Slices: 1203\n",
      "Record Number: 220, Number of Slices: 1203\n",
      "Record Number: 221, Number of Slices: 1203\n",
      "Record Number: 222, Number of Slices: 1203\n",
      "Record Number: 223, Number of Slices: 1203\n",
      "Record Number: 228, Number of Slices: 1203\n",
      "Record Number: 230, Number of Slices: 1203\n",
      "Record Number: 231, Number of Slices: 1203\n",
      "Record Number: 232, Number of Slices: 1203\n",
      "Record Number: 233, Number of Slices: 1203\n",
      "Record Number: 234, Number of Slices: 1203\n"
     ]
    }
   ],
   "source": [
    "# Define Variables\n",
    "signal_length = 650000\n",
    "heartbeat_duration = 270\n",
    "k = 2  ## spectrogram\n",
    "\n",
    "# Function to read ECG signals from .dat files and generate slices\n",
    "def generate_slices(folder_path):\n",
    "    # Initialize an empty dictionary to store slices\n",
    "    slices_dict = {}\n",
    "\n",
    "    # Loop through all files in the folder\n",
    "    for file_name in os.listdir(folder_path):\n",
    "        if file_name.endswith('.dat'):\n",
    "            # Extract the record number from the file name\n",
    "            record_number = file_name.split('.')[0]\n",
    "\n",
    "            # Read the ECG signal from the .dat file\n",
    "            record = wfdb.rdsamp(os.path.join(folder_path, record_number))\n",
    "            ecg_signal = record[0][:, 0]\n",
    "\n",
    "            # Generate slices\n",
    "            slices = slice_ecg_signal(ecg_signal,signal_length,heartbeat_duration,k)\n",
    "\n",
    "            # Add slices to the dictionary\n",
    "            slices_dict[record_number] = slices\n",
    "\n",
    "    return slices_dict\n",
    "\n",
    "# Folder path containing the .dat files\n",
    "folder_path = \"data/ardb\"\n",
    "\n",
    "#  Noisebaselinewander.\n",
    "record_bw = wfdb.rdsamp(\"data/nstdb/bw\")\n",
    "noise_bw = record_bw[0][:, 0]\n",
    "\n",
    "# Generate slices and create dictionary\n",
    "slices_dict_clean = generate_slices(folder_path)\n",
    "\n",
    "# Print the dictionary\n",
    "for record_number, slices in slices_dict_clean.items():\n",
    "    print(f\"Record Number: {record_number}, Number of Slices: {len(slices)}\")"
   ]
  },
  {
   "cell_type": "markdown",
   "metadata": {},
   "source": [
    "Since we want to build a synthetic dataset (known ground truth), we need both clean- and noisy signals. We can build a new dictionary, that contains the samples, however with noise added. We add the different types of noise at specific SNRs.\n",
    "- (baseline wander at SNR=5)        * skipped for now.. cause the other ones are harder to remove..\n",
    "- electrode motion at SNR=5\n",
    "- muscle artificats at SNR=5"
   ]
  },
  {
   "cell_type": "code",
   "execution_count": 11,
   "metadata": {},
   "outputs": [
    {
     "name": "stderr",
     "output_type": "stream",
     "text": [
      "Generating Noisy Samples:   0%|          | 0/48 [00:00<?, ?it/s]"
     ]
    },
    {
     "name": "stderr",
     "output_type": "stream",
     "text": [
      "Generating Noisy Samples: 100%|██████████| 48/48 [00:02<00:00, 19.40it/s]\n",
      "Generating Noisy Samples: 100%|██████████| 48/48 [00:02<00:00, 19.77it/s]\n",
      "Generating Noisy Samples: 100%|██████████| 48/48 [00:02<00:00, 19.92it/s]\n",
      "Generating Noisy Samples: 100%|██████████| 48/48 [00:02<00:00, 19.94it/s]\n"
     ]
    }
   ],
   "source": [
    "# Duration of slice\n",
    "slice_duration = 2*270\n",
    "\n",
    "# Noise\n",
    "record_bw = wfdb.rdsamp(\"data/nstdb/bw\", sampto=slice_duration)\n",
    "noise_bw = record_bw[0][:, 0]\n",
    "\n",
    "record_em = wfdb.rdsamp(\"data/nstdb/em\", sampto=slice_duration)\n",
    "noise_em = record_em[0][:, 0]\n",
    "\n",
    "record_ma = wfdb.rdsamp(\"data/nstdb/ma\", sampto=slice_duration)\n",
    "noise_ma = record_ma[0][:,0]\n",
    "\n",
    "# Signal-to-noise ratio\n",
    "snr = 5\n",
    "\n",
    "# Build the dictionary with noisy samples\n",
    "def generate_noisy_samples(slices_dict, noise_sample, snr_dB):\n",
    "    noisy_samples_dict = {}\n",
    "    \n",
    "    # Initialize tqdm to display progress\n",
    "    pbar = tqdm(total=len(slices_dict), desc=\"Generating Noisy Samples\")\n",
    "    \n",
    "    for record_number, slices in slices_dict.items():\n",
    "        noisy_slices = []\n",
    "        for slice in slices:\n",
    "            noisy_slice = add_noise(slice, noise_sample, snr_dB)\n",
    "            noisy_slices.append(noisy_slice)\n",
    "        \n",
    "        # Update the progress bar\n",
    "        pbar.update(1)\n",
    "        \n",
    "        noisy_samples_dict[record_number] = noisy_slices\n",
    "    \n",
    "    # Close the progress bar\n",
    "    pbar.close()\n",
    "    \n",
    "    return noisy_samples_dict\n",
    "\n",
    "slices_dict_noisy_bw_SNR_5 = generate_noisy_samples(slices_dict_clean, noise_bw, snr)  # Since this can be filtered... we focus on the challenging noise types first\n",
    "slices_dict_noisy_em_SNR_5 = generate_noisy_samples(slices_dict_clean, noise_em, snr)\n",
    "slices_dict_noisy_ma_SNR_5 = generate_noisy_samples(slices_dict_clean, noise_ma, snr)\n",
    "\n",
    "mixed_noise = noise_bw + noise_em + noise_em\n",
    "slices_dict_noisy_mixed_SNR_5 = generate_noisy_samples(slices_dict_clean,mixed_noise,snr)\n"
   ]
  },
  {
   "cell_type": "markdown",
   "metadata": {},
   "source": [
    "Since we will work with Pytorch (and Tensorflow) we will convert our dictionaries and then use the library focused structure. By sorting them, we know they correspond to the same original slice."
   ]
  },
  {
   "cell_type": "code",
   "execution_count": null,
   "metadata": {},
   "outputs": [],
   "source": [
    "# Dictionaries to list\n",
    "clean_slices_list = [slices_dict_clean[key] for key in sorted(slices_dict_clean.keys())]\n",
    "\n",
    "noisy_slices_bw_SNR_5_list = [slices_dict_noisy_bw_SNR_5[key] for key in sorted(slices_dict_noisy_bw_SNR_5.keys())]\n",
    "noisy_slices_em_SNR_5_list = [slices_dict_noisy_em_SNR_5[key] for key in sorted(slices_dict_noisy_em_SNR_5.keys())]\n",
    "noisy_slices_ma_SNR_5_list = [slices_dict_noisy_ma_SNR_5[key] for key in sorted(slices_dict_noisy_ma_SNR_5.keys())]\n",
    "noisy_slices_mixed_SNR_5_list = [slices_dict_noisy_mixed_SNR_5[key] for key in sorted(slices_dict_noisy_mixed_SNR_5.keys())]\n",
    "\n",
    "# Flatten\n",
    "clean_slices_flat = [slice for sublist in clean_slices_list for slice in sublist]\n",
    "\n",
    "noisy_slices_bw_SNR_5_flat = [slice for sublist in noisy_slices_bw_SNR_5_list for slice in sublist]\n",
    "noisy_slices_em_SNR_5_flat = [slice for sublist in noisy_slices_em_SNR_5_list for slice in sublist]\n",
    "noisy_slices_ma_SNR_5_flat = [slice for sublist in noisy_slices_ma_SNR_5_list for slice in sublist]\n",
    "noisy_slices_mixed_SNR_5_flat = [slice for sublist in noisy_slices_mixed_SNR_5_list for slice in sublist]\n",
    "\n",
    "print('Number of noisy samples... mixed noise', len(noisy_slices_mixed_SNR_5_flat))\n",
    "print('Number of clean slices', len(clean_slices_flat))\n",
    "\n",
    "plot_multiple_timeseries([clean_slices_flat[1000],noisy_slices_mixed_SNR_5_flat[1000]],['Clean', 'Mixed Noise Added'])"
   ]
  },
  {
   "cell_type": "markdown",
   "metadata": {},
   "source": [
    "Let us build training data based from **ardb** database. Let's start with one noise type (electrode motition). We can easily augment with data from other sets. "
   ]
  },
  {
   "cell_type": "code",
   "execution_count": 15,
   "metadata": {},
   "outputs": [
    {
     "name": "stdout",
     "output_type": "stream",
     "text": [
      "Number of slices 57744\n",
      "Length of slice 540\n"
     ]
    },
    {
     "name": "stderr",
     "output_type": "stream",
     "text": [
      "100%|██████████| 57744/57744 [01:22<00:00, 699.10it/s]\n"
     ]
    }
   ],
   "source": [
    "import pickle\n",
    "\n",
    "# Display Info\n",
    "num_of_slices = len(clean_slices_flat);   print('Number of slices',num_of_slices)\n",
    "len_of_slice = len(clean_slices_flat[0]); print('Length of slice', len_of_slice)\n",
    "\n",
    "# Spectrograms\n",
    "specs_clean = []\n",
    "specs_noisy_EM_snr_5 = []\n",
    "# speks_noisy_MA_snr_5 = []\n",
    "\n",
    "# Spectrogram Parameters\n",
    "n_fft = 126\n",
    "hop_length = 8\n",
    "sampto = (62*8) + 8 \n",
    "\n",
    "# Build Spectrograms\n",
    "for i in tqdm(range(num_of_slices)):\n",
    "\n",
    "    #######\n",
    "    ecg_clean =  torch.tensor(clean_slices_flat[i][:sampto])\n",
    "    ecg_noisy_EM = torch.tensor(noisy_slices_em_SNR_5_flat[i][:sampto])\n",
    "    \n",
    "    #######\n",
    "    spec_clean = ecg_to_spectrogram_log(ecg_clean, n_fft, hop_length)\n",
    "    spec_noisy_EM = ecg_to_spectrogram_log(ecg_noisy_EM, n_fft, hop_length)\n",
    "\n",
    "    #######\n",
    "    specs_clean.append(spec_clean)\n",
    "    specs_noisy_EM_snr_5.append(spec_noisy_EM)\n",
    "\n",
    "# Save spectrograms as pickle files\n",
    "with open('specs_clean.pkl', 'wb') as f:\n",
    "    pickle.dump(specs_clean, f)\n",
    "\n",
    "with open('specs_noisy_EM_snr_5.pkl', 'wb') as f:\n",
    "    pickle.dump(specs_noisy_EM_snr_5, f)"
   ]
  },
  {
   "cell_type": "markdown",
   "metadata": {},
   "source": [
    "We need methods so we can easily work with PyTorch models. Especially, our SR3 model in Pytorch. We take the following steps:\n",
    "\n",
    "1. Load the clean and noisy spectrogram from a pickle file.\n",
    "2. Normalize both between [-1,1] and save as pickle file.\n",
    "3. Build train/test set according to format to use with our diffusion model."
   ]
  },
  {
   "cell_type": "code",
   "execution_count": 8,
   "metadata": {},
   "outputs": [],
   "source": [
    "## Load from pickle\n",
    "\n",
    "# Load specs_clean from pickle\n",
    "# with open('specs_clean.pkl', 'rb') as f:\n",
    "#     specs_clean = pickle.load(f)\n",
    "\n",
    "# Load specs_noisy_EM_snr_5 from pickle\n",
    "with open('specs_noisy_EM_snr_5.pkl', 'rb') as f:\n",
    "    specs_noisy = pickle.load(f)"
   ]
  },
  {
   "cell_type": "code",
   "execution_count": 10,
   "metadata": {},
   "outputs": [],
   "source": [
    "## Normalization Methods\n",
    "\n",
    "def normalize_tensor(input_tensor):\n",
    "    min_val = torch.min(input_tensor)\n",
    "    max_val = torch.max(input_tensor)\n",
    "\n",
    "    # Normalize the tensor between -1 and 1\n",
    "    normalized_tensor = 2 * ((input_tensor - min_val) / (max_val - min_val)) - 1\n",
    "\n",
    "    return normalized_tensor\n",
    "\n",
    "def undo_normalization_tensor(normalized_tensor):\n",
    "    min_val = -1\n",
    "    max_val = 1\n",
    "\n",
    "    # Undo normalization\n",
    "    original_tensor = ((normalized_tensor + 1) / 2) * (max_val - min_val) + min_val\n",
    "\n",
    "    return original_tensor"
   ]
  },
  {
   "cell_type": "code",
   "execution_count": 19,
   "metadata": {},
   "outputs": [
    {
     "name": "stderr",
     "output_type": "stream",
     "text": [
      "  0%|          | 0/57744 [00:00<?, ?it/s]"
     ]
    },
    {
     "name": "stderr",
     "output_type": "stream",
     "text": [
      "  5%|▍         | 2633/57744 [00:00<00:08, 6421.93it/s]\n"
     ]
    },
    {
     "ename": "KeyboardInterrupt",
     "evalue": "",
     "output_type": "error",
     "traceback": [
      "\u001b[1;31m---------------------------------------------------------------------------\u001b[0m",
      "\u001b[1;31mKeyboardInterrupt\u001b[0m                         Traceback (most recent call last)",
      "Cell \u001b[1;32mIn[19], line 10\u001b[0m\n\u001b[0;32m      8\u001b[0m input_tensor_clean \u001b[38;5;241m=\u001b[39m specs_clean[i]\n\u001b[0;32m      9\u001b[0m \u001b[38;5;66;03m#################\u001b[39;00m\n\u001b[1;32m---> 10\u001b[0m norm_spec_clean \u001b[38;5;241m=\u001b[39m \u001b[43mnormalize_tensor\u001b[49m\u001b[43m(\u001b[49m\u001b[43minput_tensor_clean\u001b[49m\u001b[43m)\u001b[49m\n\u001b[0;32m     11\u001b[0m \u001b[38;5;66;03m#################\u001b[39;00m\n\u001b[0;32m     12\u001b[0m specs_clean_normalized\u001b[38;5;241m.\u001b[39mappend(norm_spec_clean)\n",
      "Cell \u001b[1;32mIn[14], line 8\u001b[0m, in \u001b[0;36mnormalize_tensor\u001b[1;34m(input_tensor)\u001b[0m\n\u001b[0;32m      5\u001b[0m max_val \u001b[38;5;241m=\u001b[39m torch\u001b[38;5;241m.\u001b[39mmax(input_tensor)\n\u001b[0;32m      7\u001b[0m \u001b[38;5;66;03m# Normalize the tensor between -1 and 1\u001b[39;00m\n\u001b[1;32m----> 8\u001b[0m normalized_tensor \u001b[38;5;241m=\u001b[39m \u001b[38;5;241;43m2\u001b[39;49m\u001b[43m \u001b[49m\u001b[38;5;241;43m*\u001b[39;49m\u001b[43m \u001b[49m\u001b[43m(\u001b[49m\u001b[43m(\u001b[49m\u001b[43minput_tensor\u001b[49m\u001b[43m \u001b[49m\u001b[38;5;241;43m-\u001b[39;49m\u001b[43m \u001b[49m\u001b[43mmin_val\u001b[49m\u001b[43m)\u001b[49m\u001b[43m \u001b[49m\u001b[38;5;241;43m/\u001b[39;49m\u001b[43m \u001b[49m\u001b[43m(\u001b[49m\u001b[43mmax_val\u001b[49m\u001b[43m \u001b[49m\u001b[38;5;241;43m-\u001b[39;49m\u001b[43m \u001b[49m\u001b[43mmin_val\u001b[49m\u001b[43m)\u001b[49m\u001b[43m)\u001b[49m\u001b[43m \u001b[49m\u001b[38;5;241;43m-\u001b[39;49m\u001b[43m \u001b[49m\u001b[38;5;241;43m1\u001b[39;49m\n\u001b[0;32m     10\u001b[0m \u001b[38;5;28;01mreturn\u001b[39;00m normalized_tensor\n",
      "\u001b[1;31mKeyboardInterrupt\u001b[0m: "
     ]
    }
   ],
   "source": [
    "## Normalize the data...[-1,1] \n",
    "\n",
    "specs_clean_normalized = []\n",
    "\n",
    "\n",
    "# CLEAN\n",
    "for i in tqdm(range(len(specs_clean))):\n",
    "    input_tensor_clean = specs_clean[i]\n",
    "    #################\n",
    "    norm_spec_clean = normalize_tensor(input_tensor_clean)\n",
    "    #################\n",
    "    specs_clean_normalized.append(norm_spec_clean)\n",
    "\n",
    "with open(\"specs_clean_normalized.pkl\", 'wb') as file:\n",
    "    pickle.dump(specs_clean_normalized, file)\n"
   ]
  },
  {
   "cell_type": "code",
   "execution_count": 14,
   "metadata": {},
   "outputs": [
    {
     "name": "stderr",
     "output_type": "stream",
     "text": [
      "  0%|          | 0/57744 [00:00<?, ?it/s]"
     ]
    },
    {
     "name": "stderr",
     "output_type": "stream",
     "text": [
      "100%|██████████| 57744/57744 [00:09<00:00, 6355.16it/s]\n"
     ]
    }
   ],
   "source": [
    "# NOISY\n",
    "specs_noisy_normalized = []\n",
    "for i in tqdm(range(len(specs_noisy))):\n",
    "    input_tensor_noisy = specs_noisy[i]\n",
    "    #################\n",
    "    norm_spec_noisy = normalize_tensor(input_tensor_noisy)\n",
    "    #################\n",
    "    specs_noisy_normalized.append(norm_spec_noisy)\n",
    "\n",
    "\n",
    "# TODO:\n",
    "# Save specs_noisy_normalized as a pickle file\n",
    "with open('specs_noisy_normalized.pkl', 'wb') as f:\n",
    "    pickle.dump(specs_noisy_normalized, f)"
   ]
  },
  {
   "cell_type": "markdown",
   "metadata": {},
   "source": [
    "Ignore previous code... In case you just "
   ]
  },
  {
   "cell_type": "code",
   "execution_count": 5,
   "metadata": {},
   "outputs": [],
   "source": [
    "# Load specs_clean from pickle\n",
    "with open('specs_clean_normalized.pickle', 'rb') as f:\n",
    "    specs_clean = pickle.load(f)\n",
    "\n"
   ]
  },
  {
   "cell_type": "code",
   "execution_count": 15,
   "metadata": {},
   "outputs": [],
   "source": [
    "# Load specs_noisy from pickle\n",
    "with open('specs_noisy_normalized.pkl', 'rb') as f:\n",
    "    specs_noisy = pickle.load(f)"
   ]
  },
  {
   "cell_type": "code",
   "execution_count": 17,
   "metadata": {},
   "outputs": [
    {
     "name": "stdout",
     "output_type": "stream",
     "text": [
      "<class 'torch.Tensor'>\n",
      "46195\n",
      "<class 'list'>\n",
      "<class 'torch.Tensor'>\n",
      "Training Set:\n",
      "Number of samples: 46195\n",
      "Shape of spectrograms (clean): torch.Size([1, 64, 64])\n",
      "Shape of spectrograms (noisy): torch.Size([1, 64, 64])\n",
      "\n",
      "Validation Set:\n",
      "Number of samples: 11549\n",
      "Shape of spectrograms (clean): torch.Size([1, 64, 64])\n",
      "Shape of spectrograms (noisy): torch.Size([1, 64, 64])\n",
      "\n"
     ]
    }
   ],
   "source": [
    "from torch.utils.data import Dataset, DataLoader\n",
    "from torchvision import transforms\n",
    "from sklearn.model_selection import train_test_split\n",
    "\n",
    "## Assigned normalized list of tensors\n",
    "# specs_clean = specs_clean_normalized\n",
    "specs_noisy = specs_noisy_normalized\n",
    "\n",
    "print(type(specs_clean[0]))\n",
    "\n",
    "# # Define a custom PyTorch dataset \n",
    "class SpectrogramDataset(Dataset):\n",
    "    def __init__(self, specs_clean, specs_noisy, transform=None):\n",
    "        self.specs_clean = specs_clean\n",
    "        self.specs_noisy = specs_noisy\n",
    "        self.transform = transform\n",
    "\n",
    "    def __len__(self):\n",
    "        return len(self.specs_clean)\n",
    "\n",
    "    def __getitem__(self, idx):\n",
    "        spec_clean = self.specs_clean[idx]\n",
    "        spec_noisy = self.specs_noisy[idx]\n",
    "\n",
    "        if self.transform:\n",
    "            spec_clean = self.transform(spec_clean)\n",
    "            spec_noisy = self.transform(spec_noisy)\n",
    "\n",
    "        return spec_clean, spec_noisy\n",
    "\n",
    "# Split the data into training and validation sets\n",
    "specs_clean_train, specs_clean_val, specs_noisy_train, specs_noisy_val = train_test_split(\n",
    "    specs_clean, specs_noisy, test_size=0.2, random_state=42)\n",
    "\n",
    "# Create datasets for training and validation\n",
    "train_dataset = SpectrogramDataset(specs_clean_train, specs_noisy_train)\n",
    "val_dataset = SpectrogramDataset(specs_clean_val, specs_noisy_val)\n",
    "\n",
    "# Adapt to SR3 format\n",
    "x_in_train = {'HR': specs_clean_train, 'SR': specs_noisy_train}\n",
    "x_in_test = {'HR': specs_clean_val, 'SR': specs_noisy_val}\n",
    "\n",
    "\n",
    "print(len(specs_clean_train))\n",
    "print(type(specs_clean_train))\n",
    "print(type(specs_clean_train[0]))\n",
    "\n",
    "# # ***********************\n",
    "# # Obtain some infromation\n",
    "# Display some information about the data\n",
    "print(\"Training Set:\")\n",
    "print(\"Number of samples:\", len(specs_clean_train))\n",
    "print(\"Shape of spectrograms (clean):\", specs_clean_train[0].shape)\n",
    "print(\"Shape of spectrograms (noisy):\", specs_noisy_train[0].shape)\n",
    "print()\n",
    "\n",
    "print(\"Validation Set:\")\n",
    "print(\"Number of samples:\", len(specs_clean_val))\n",
    "print(\"Shape of spectrograms (clean):\", specs_clean_val[0].shape)\n",
    "print(\"Shape of spectrograms (noisy):\", specs_noisy_val[0].shape)\n",
    "print()\n",
    "\n",
    "# print('Shape Training Dataset', train_dataset)\n",
    "\n",
    "# # ***********************\n",
    "\n"
   ]
  },
  {
   "cell_type": "markdown",
   "metadata": {},
   "source": [
    "#### Load the model here...\n",
    "\n",
    "Diffusion model sauce time..."
   ]
  },
  {
   "cell_type": "code",
   "execution_count": 10,
   "metadata": {},
   "outputs": [
    {
     "ename": "TypeError",
     "evalue": "'module' object is not callable",
     "output_type": "error",
     "traceback": [
      "\u001b[1;31m---------------------------------------------------------------------------\u001b[0m",
      "\u001b[1;31mTypeError\u001b[0m                                 Traceback (most recent call last)",
      "Cell \u001b[1;32mIn[10], line 17\u001b[0m\n\u001b[0;32m     14\u001b[0m image_size \u001b[38;5;241m=\u001b[39m \u001b[38;5;241m16\u001b[39m\n\u001b[0;32m     16\u001b[0m \u001b[38;5;66;03m# Instantiate the UNet model\u001b[39;00m\n\u001b[1;32m---> 17\u001b[0m denoise_fn \u001b[38;5;241m=\u001b[39m \u001b[43mUNet\u001b[49m\u001b[43m(\u001b[49m\n\u001b[0;32m     18\u001b[0m \u001b[43m    \u001b[49m\u001b[43min_channel\u001b[49m\u001b[38;5;241;43m=\u001b[39;49m\u001b[43min_channels\u001b[49m\u001b[43m,\u001b[49m\n\u001b[0;32m     19\u001b[0m \u001b[43m    \u001b[49m\u001b[43mout_channel\u001b[49m\u001b[38;5;241;43m=\u001b[39;49m\u001b[43mout_channels\u001b[49m\u001b[43m,\u001b[49m\n\u001b[0;32m     20\u001b[0m \u001b[43m    \u001b[49m\u001b[43minner_channel\u001b[49m\u001b[38;5;241;43m=\u001b[39;49m\u001b[43minner_channels\u001b[49m\u001b[43m,\u001b[49m\n\u001b[0;32m     21\u001b[0m \u001b[43m    \u001b[49m\u001b[43mnorm_groups\u001b[49m\u001b[38;5;241;43m=\u001b[39;49m\u001b[43mnorm_groups\u001b[49m\u001b[43m,\u001b[49m\n\u001b[0;32m     22\u001b[0m \u001b[43m    \u001b[49m\u001b[43mchannel_mults\u001b[49m\u001b[38;5;241;43m=\u001b[39;49m\u001b[43mchannel_mults\u001b[49m\u001b[43m,\u001b[49m\n\u001b[0;32m     23\u001b[0m \u001b[43m    \u001b[49m\u001b[43mattn_res\u001b[49m\u001b[38;5;241;43m=\u001b[39;49m\u001b[43mattn_res\u001b[49m\u001b[43m,\u001b[49m\n\u001b[0;32m     24\u001b[0m \u001b[43m    \u001b[49m\u001b[43mres_blocks\u001b[49m\u001b[38;5;241;43m=\u001b[39;49m\u001b[43mres_blocks\u001b[49m\u001b[43m,\u001b[49m\n\u001b[0;32m     25\u001b[0m \u001b[43m    \u001b[49m\u001b[43mdropout\u001b[49m\u001b[38;5;241;43m=\u001b[39;49m\u001b[43mdropout\u001b[49m\u001b[43m,\u001b[49m\n\u001b[0;32m     26\u001b[0m \u001b[43m    \u001b[49m\u001b[43mwith_noise_level_emb\u001b[49m\u001b[38;5;241;43m=\u001b[39;49m\u001b[43mwith_noise_level_emb\u001b[49m\u001b[43m,\u001b[49m\n\u001b[0;32m     27\u001b[0m \u001b[43m    \u001b[49m\u001b[43mimage_size\u001b[49m\u001b[38;5;241;43m=\u001b[39;49m\u001b[43mimage_size\u001b[49m\n\u001b[0;32m     28\u001b[0m \u001b[43m)\u001b[49m\n",
      "\u001b[1;31mTypeError\u001b[0m: 'module' object is not callable"
     ]
    }
   ],
   "source": [
    "from src.generative_models import unet_SR3 as UNet\n",
    "from src.generative_models import diffusion as diffusion\n",
    "\n",
    "# Define parameters of the U-Net (denoising function)\n",
    "in_channels = 2             # Gray , 2x 'concat' input\n",
    "out_channels = 1            # one image...\n",
    "inner_channels = 32         # Depth feature maps, model complexity \n",
    "norm_groups = 32            # Granularity of normalization, impacting convergence\n",
    "channel_mults = (1, 2, 4, 8, 8)\n",
    "attn_res = [8]\n",
    "res_blocks = 3\n",
    "dropout = 0\n",
    "with_noise_level_emb = True\n",
    "image_size = 16\n",
    "\n",
    "# Instantiate the UNet model\n",
    "denoise_fn = UNet(\n",
    "    in_channel=in_channels,\n",
    "    out_channel=out_channels,\n",
    "    inner_channel=inner_channels,\n",
    "    norm_groups=norm_groups,\n",
    "    channel_mults=channel_mults,\n",
    "    attn_res=attn_res,\n",
    "    res_blocks=res_blocks,\n",
    "    dropout=dropout,\n",
    "    with_noise_level_emb=with_noise_level_emb,\n",
    "    image_size=image_size\n",
    ")"
   ]
  },
  {
   "cell_type": "markdown",
   "metadata": {},
   "source": [
    "We can also use our GGM encoding. However, running this on local CPU seems to slow. We can later try this on cloud CPU."
   ]
  },
  {
   "cell_type": "code",
   "execution_count": 30,
   "metadata": {},
   "outputs": [
    {
     "name": "stderr",
     "output_type": "stream",
     "text": [
      "  7%|▋         | 7/100 [00:08<01:54,  1.23s/it]\n"
     ]
    },
    {
     "ename": "KeyboardInterrupt",
     "evalue": "",
     "output_type": "error",
     "traceback": [
      "\u001b[1;31m---------------------------------------------------------------------------\u001b[0m",
      "\u001b[1;31mKeyboardInterrupt\u001b[0m                         Traceback (most recent call last)",
      "Cell \u001b[1;32mIn[30], line 8\u001b[0m\n\u001b[0;32m      6\u001b[0m \u001b[38;5;28;01mfor\u001b[39;00m i \u001b[38;5;129;01min\u001b[39;00m tqdm(\u001b[38;5;28mrange\u001b[39m(num_iterations)):\n\u001b[0;32m      7\u001b[0m     ecg_noisy \u001b[38;5;241m=\u001b[39m noisy_slices_em_SNR_5_flat[i][:\u001b[38;5;241m512\u001b[39m]\n\u001b[1;32m----> 8\u001b[0m     ggm \u001b[38;5;241m=\u001b[39m \u001b[43mecg_to_ggm\u001b[49m\u001b[43m(\u001b[49m\u001b[43mecg_noisy\u001b[49m\u001b[43m)\u001b[49m\n\u001b[0;32m      9\u001b[0m     ggm_emebeddings\u001b[38;5;241m.\u001b[39mappend(ggm)\n\u001b[0;32m     11\u001b[0m \u001b[38;5;66;03m# Save ggm embeddings as pickle files\u001b[39;00m\n",
      "Cell \u001b[1;32mIn[3], line 46\u001b[0m, in \u001b[0;36mecg_to_ggm\u001b[1;34m(X)\u001b[0m\n\u001b[0;32m     44\u001b[0m     \u001b[38;5;28;01mfor\u001b[39;00m j \u001b[38;5;129;01min\u001b[39;00m \u001b[38;5;28mrange\u001b[39m(N):\n\u001b[0;32m     45\u001b[0m         GASF[i, j] \u001b[38;5;241m=\u001b[39m np\u001b[38;5;241m.\u001b[39mcos((phi[i] \u001b[38;5;241m+\u001b[39m phi[j]) \u001b[38;5;241m/\u001b[39m \u001b[38;5;241m2\u001b[39m)\n\u001b[1;32m---> 46\u001b[0m         GADF[i, j] \u001b[38;5;241m=\u001b[39m np\u001b[38;5;241m.\u001b[39mcos((phi[i] \u001b[38;5;241m-\u001b[39m phi[j]) \u001b[38;5;241m/\u001b[39m \u001b[38;5;241m2\u001b[39m)\n\u001b[0;32m     48\u001b[0m \u001b[38;5;66;03m# Compute MTF matrix\u001b[39;00m\n\u001b[0;32m     49\u001b[0m MTF \u001b[38;5;241m=\u001b[39m mtf\u001b[38;5;241m.\u001b[39mtransform(X\u001b[38;5;241m.\u001b[39mreshape(\u001b[38;5;241m1\u001b[39m,\u001b[38;5;241m-\u001b[39m\u001b[38;5;241m1\u001b[39m))\n",
      "\u001b[1;31mKeyboardInterrupt\u001b[0m: "
     ]
    }
   ],
   "source": [
    "# Build GGM ... \n",
    "# --> NOTE: too demanding on local CPU!\n",
    "ggm_emebeddings = []\n",
    "num_iterations = 100\n",
    "\n",
    "for i in tqdm(range(num_iterations)):\n",
    "    ecg_noisy = noisy_slices_em_SNR_5_flat[i][:512]\n",
    "    ggm = ecg_to_ggm(ecg_noisy)\n",
    "    ggm_emebeddings.append(ggm)\n",
    "\n",
    "# Save ggm embeddings as pickle files\n",
    "with open('specs_clean.pkl', 'wb') as f:\n",
    "    pickle.dump(specs_clean, f)    \n"
   ]
  },
  {
   "cell_type": "markdown",
   "metadata": {},
   "source": [
    "#### Additional Datasets"
   ]
  },
  {
   "cell_type": "markdown",
   "metadata": {},
   "source": [
    "Assume we want to obtain a bigger dataset. We can additionaly also process the (filtered) data in the ECG-ID dataset: https://physionet.org/content/ecgiddb/1.0.0/ . As said, these samples are cleaned. We can potentially use these or use the non-cleaned as a real dataset, if we don't use the filtered/clean signals for our training/validate/test sets."
   ]
  },
  {
   "cell_type": "code",
   "execution_count": 23,
   "metadata": {},
   "outputs": [
    {
     "name": "stdout",
     "output_type": "stream",
     "text": [
      "Sampling rate: 500\n",
      "Number of samples 10000\n",
      "Duration in seconds 20.0\n"
     ]
    },
    {
     "data": {
      "image/png": "[encoded data removed]",
      "text/plain": [
       "<Figure size 1000x400 with 2 Axes>"
      ]
     },
     "metadata": {},
     "output_type": "display_data"
    }
   ],
   "source": [
    "### Example: ECG-ID Dataset ###\n",
    "record_id_p1_rec_1 = wfdb.rdsamp(\"data/ecg-id/Person_03/rec_1\") \n",
    "signal_id_p1_rec_1_noisy = record_id_p1_rec_1[0][:, 0]\n",
    "signal_id_p1_rec_1_filtered = record_id_p1_rec_1[0][:, 1]\n",
    "\n",
    "# Obtain sampling rate and compute duration in seconds\n",
    "num_of_samples = len(signal_id_p1_rec_1_filtered)\n",
    "sampling_rate = record_id_p1_rec_1[1]['fs']\n",
    "duration_in_seconds= num_of_samples/sampling_rate\n",
    "\n",
    "# Display info\n",
    "print(\"Sampling rate:\", sampling_rate)\n",
    "print('Number of samples', len(signal_id_p1_rec_1_filtered))\n",
    "print('Duration in seconds', duration_in_seconds)\n",
    "\n",
    "# Visualize\n",
    "plot_multiple_timeseries([signal_id_p1_rec_1_noisy, signal_id_p1_rec_1_filtered], ['Person 1 Rec 1 Noisy (REAL)', 'Person 1 Rec  1 Filtered'])            # Nice..."
   ]
  },
  {
   "cell_type": "markdown",
   "metadata": {},
   "source": [
    "We can use an alternative dataset, which might be of better quality. This is the PTB-XL dataset: https://physionet.org/content/ptb-xl/1.0.3/. We downloaded this dataset on Keggle via this link: https://www.kaggle.com/datasets/bjoernjostein/ptbxl-electrocardiography-database."
   ]
  },
  {
   "cell_type": "code",
   "execution_count": 16,
   "metadata": {},
   "outputs": [
    {
     "name": "stdout",
     "output_type": "stream",
     "text": [
      "Length of HR1 5000\n",
      "Length of HR1 Resample Scipy 3600\n"
     ]
    },
    {
     "data": {
      "image/png": "[encoded data removed]",
      "text/plain": [
       "<Figure size 1000x400 with 2 Axes>"
      ]
     },
     "metadata": {},
     "output_type": "display_data"
    }
   ],
   "source": [
    "### Example: PTB-XL Dataset ###\n",
    "record_ptb_HR1 = wfdb.rdsamp(\"data/PTB-XL/HR10323\")\n",
    "signal_ptb_HR1 =  record_ptb_HR1[0][:, 0]\n",
    "\n",
    "# Original sampling rate\n",
    "original_sampling_rate = 500  # Hz\n",
    "\n",
    "# Target sampling rate\n",
    "target_sampling_rate = 360  # Hz\n",
    "\n",
    "# Resample the signal\n",
    "num_samples_target = int(len(signal_ptb_HR1) * target_sampling_rate / original_sampling_rate)\n",
    "resampled_signal_ptb_HR1 = resample(signal_ptb_HR1, num_samples_target)\n",
    "\n",
    "print('Length of HR1', len(signal_ptb_HR1))\n",
    "print('Length of HR1 Resample Scipy', len(resampled_signal_ptb_HR1))\n",
    "\n",
    "plot_multiple_timeseries([signal_ptb_HR1, resampled_signal_ptb_HR1], ['PTB HR1','PTB HR1 Scipy'])"
   ]
  },
  {
   "cell_type": "markdown",
   "metadata": {},
   "source": [
    "Let us first investigate the model for 57k samples... See how long the training takes. In the meanwhile we continue to generate more training data from the other datasets."
   ]
  },
  {
   "cell_type": "code",
   "execution_count": null,
   "metadata": {},
   "outputs": [],
   "source": []
  }
 ],
 "metadata": {
  "kernelspec": {
   "display_name": ".venv",
   "language": "python",
   "name": "python3"
  },
  "language_info": {
   "codemirror_mode": {
    "name": "ipython",
    "version": 3
   },
   "file_extension": ".py",
   "mimetype": "text/x-python",
   "name": "python",
   "nbconvert_exporter": "python",
   "pygments_lexer": "ipython3",
   "version": "3.9.0"
  }
 },
 "nbformat": 4,
 "nbformat_minor": 2
}
